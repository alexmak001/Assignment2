{
 "cells": [
  {
   "cell_type": "code",
   "execution_count": 15,
   "id": "d56cb288",
   "metadata": {},
   "outputs": [],
   "source": [
    "import gzip\n",
    "import math\n",
    "import pandas as pd\n",
    "from sklearn.feature_extraction.text import TfidfVectorizer\n",
    "from sklearn.linear_model import Ridge\n",
    "from sklearn.metrics import mean_squared_error\n",
    "from sklearn.pipeline import Pipeline\n",
    "from collections import defaultdict\n",
    "from fastFM import als\n",
    "import random\n",
    "from scipy import sparse\n",
    "import numpy as np\n",
    "import matplotlib.pyplot as plt\n"
   ]
  },
  {
   "cell_type": "code",
   "execution_count": 10,
   "id": "c436169f",
   "metadata": {},
   "outputs": [],
   "source": [
    "def readGz(path):\n",
    "    for l in gzip.open(path, 'rt', encoding='cp437', errors='ignore'):\n",
    "        yield eval(l)"
   ]
  },
  {
   "cell_type": "code",
   "execution_count": 11,
   "id": "b13f2fef",
   "metadata": {},
   "outputs": [],
   "source": [
    "alexDir = \"/Users/alex/Documents/MyDoc/School/Fall2021/CSE158/A2/Assignment2/australian_users_items.json.gz\""
   ]
  },
  {
   "cell_type": "code",
   "execution_count": 12,
   "id": "b03781f3",
   "metadata": {},
   "outputs": [],
   "source": [
    "dataset = []\n",
    "for l in readGz(alexDir):\n",
    "    dataset.append(l)\n",
    "\n"
   ]
  },
  {
   "cell_type": "code",
   "execution_count": 13,
   "id": "31d94c26",
   "metadata": {},
   "outputs": [],
   "source": [
    "gameCounts = {}\n",
    "for d in dataset:\n",
    "    for g in d[\"items\"]:\n",
    "        if g[\"item_name\"] not in gameCounts.keys() and g[\"playtime_forever\"] > 0:\n",
    "            gameCounts[g[\"item_name\"]] = 1\n",
    "        if g[\"playtime_forever\"] > 0:\n",
    "            gameCounts[g[\"item_name\"]] += 1\n",
    "        "
   ]
  },
  {
   "cell_type": "code",
   "execution_count": 22,
   "id": "a58638d9",
   "metadata": {},
   "outputs": [
    {
     "data": {
      "image/png": "[encoded data removed]",
      "text/plain": [
       "<Figure size 432x288 with 1 Axes>"
      ]
     },
     "metadata": {
      "needs_background": "light"
     },
     "output_type": "display_data"
    }
   ],
   "source": [
    "plt.plot(list(gameCounts.values()))\n",
    "plt.title(\"Number of Games Owned by Each User\")\n",
    "plt.xlabel(\"Number of Games Owned\")\n",
    "plt.ylabel(\"Frequency\")\n",
    "plt.show()"
   ]
  },
  {
   "cell_type": "code",
   "execution_count": 24,
   "id": "4d06f6b4",
   "metadata": {},
   "outputs": [],
   "source": [
    "gameHours = {}\n",
    "for d in dataset:\n",
    "    for g in d[\"items\"]:\n",
    "        if g[\"item_name\"] not in gameHours.keys():\n",
    "            gameHours[g[\"item_name\"]] = g[\"playtime_forever\"]\n",
    "        else:\n",
    "            gameHours[g[\"item_name\"]] += g[\"playtime_forever\"]"
   ]
  },
  {
   "cell_type": "code",
   "execution_count": 25,
   "id": "410949cd",
   "metadata": {},
   "outputs": [
    {
     "data": {
      "image/png": "[encoded data removed]",
      "text/plain": [
       "<Figure size 432x288 with 1 Axes>"
      ]
     },
     "metadata": {
      "needs_background": "light"
     },
     "output_type": "display_data"
    }
   ],
   "source": [
    "plt.plot(list(gameHours.values()))\n",
    "plt.title(\"Number of Hours a Game Copy was Played\")\n",
    "plt.xlabel(\"Number of Hours Played\")\n",
    "plt.ylabel(\"Frequency\")\n",
    "plt.show()"
   ]
  },
  {
   "cell_type": "code",
   "execution_count": 7,
   "id": "1fe716fe",
   "metadata": {},
   "outputs": [],
   "source": [
    "pairs = []\n",
    "userID, itemID = {}, {}\n",
    "for d in dataset:\n",
    "    if d['user_id'] not in userID: \n",
    "        userID[d['user_id']] = len(userID)\n",
    "    for i in d['items']:\n",
    "        if i['item_id'] not in itemID: \n",
    "            itemID[i['item_id']] = len(itemID)\n",
    "        temp = 0\n",
    "        if i['playtime_forever'] > 2:\n",
    "            temp = 1\n",
    "        else:\n",
    "            temp = 2\n",
    "        pairs.append((d['user_id'], i['item_id'], temp ))"
   ]
  },
  {
   "cell_type": "code",
   "execution_count": 8,
   "id": "1b0f4b0e",
   "metadata": {},
   "outputs": [],
   "source": [
    "random.shuffle(pairs)"
   ]
  },
  {
   "cell_type": "code",
   "execution_count": 9,
   "id": "369f6132",
   "metadata": {},
   "outputs": [],
   "source": [
    "X = sparse.lil_matrix((len(pairs), len(userID)+len(itemID)))\n",
    "for i in range(len(pairs)):\n",
    "    user = userID[pairs[i][0]]\n",
    "    item = itemID[pairs[i][1]]\n",
    "    X[i, user] = 1\n",
    "    X[i, len(userID) + item] = 1"
   ]
  },
  {
   "cell_type": "code",
   "execution_count": 10,
   "id": "c39b5371",
   "metadata": {},
   "outputs": [],
   "source": [
    "y = np.array([1 if d[2] > 2 else -1 for d in pairs])"
   ]
  },
  {
   "cell_type": "code",
   "execution_count": 11,
   "id": "9b0f67ef",
   "metadata": {},
   "outputs": [],
   "source": [
    "n = len(pairs)\n",
    "X_train = X[:round(n*.7)]\n",
    "X_validation = X[round(n*.7):round(n*.9)]\n",
    "X_test = X[round(n*.9):]\n",
    "\n",
    "y_train = y[:round(n*.7)]\n",
    "y_validation = y[round(n*.7):round(n*.9)]\n",
    "y_test = y[round(n*.9):]"
   ]
  },
  {
   "cell_type": "code",
   "execution_count": 12,
   "id": "3bf334bf",
   "metadata": {},
   "outputs": [],
   "source": [
    "fm = als.FMClassification(n_iter=1000, init_stdev=0.1, rank=5, l2_reg_w=0.1, l2_reg_V=0.5, l2_reg=None)"
   ]
  },
  {
   "cell_type": "code",
   "execution_count": 13,
   "id": "8aec68c7",
   "metadata": {
    "scrolled": true
   },
   "outputs": [],
   "source": [
    "fm.fit(X_train, y_train)"
   ]
  },
  {
   "cell_type": "code",
   "execution_count": null,
   "id": "f75dfe0f",
   "metadata": {},
   "outputs": [],
   "source": []
  },
  {
   "cell_type": "code",
   "execution_count": null,
   "id": "a06f2b49",
   "metadata": {},
   "outputs": [],
   "source": [
    "def MSE(y, ypred):\n",
    "    y = np.array(y)\n",
    "    ypred = np.array(ypred)\n",
    "    return np.mean((y-ypred)**2)"
   ]
  },
  {
   "cell_type": "code",
   "execution_count": null,
   "id": "241ed817",
   "metadata": {},
   "outputs": [],
   "source": [
    "train_pred = fm.predict(X_train)\n",
    "validation_pred = fm.predict(X_validation)\n",
    "test_pred = fm.predict(X_test)\n",
    "\n",
    "MSE_train = MSE(train_pred, y_train)\n",
    "MSE_validation = MSE(validation_pred, y_validation)\n",
    "MSE_test = MSE(test_pred, y_test)"
   ]
  },
  {
   "cell_type": "code",
   "execution_count": null,
   "id": "d30f4e61",
   "metadata": {},
   "outputs": [],
   "source": [
    "print(\"MSE for train: {0} \\n MSE for validation: {1} \\n MSE for test: {2} \".format(MSE_train, MSE_validation, MSE_test))"
   ]
  },
  {
   "cell_type": "code",
   "execution_count": null,
   "id": "c1e172ee",
   "metadata": {},
   "outputs": [],
   "source": []
  }
 ],
 "metadata": {
  "kernelspec": {
   "display_name": "Python 3 (ipykernel)",
   "language": "python",
   "name": "python3"
  },
  "language_info": {
   "codemirror_mode": {
    "name": "ipython",
    "version": 3
   },
   "file_extension": ".py",
   "mimetype": "text/x-python",
   "name": "python",
   "nbconvert_exporter": "python",
   "pygments_lexer": "ipython3",
   "version": "3.7.6"
  }
 },
 "nbformat": 4,
 "nbformat_minor": 5
}
