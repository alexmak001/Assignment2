{
 "cells": [
  {
   "cell_type": "code",
   "execution_count": 1,
   "id": "d56cb288",
   "metadata": {},
   "outputs": [],
   "source": [
    "import gzip\n",
    "import math\n",
    "import pandas as pd\n",
    "from sklearn.feature_extraction.text import TfidfVectorizer\n",
    "from sklearn.linear_model import Ridge\n",
    "from sklearn.metrics import mean_squared_error\n",
    "from sklearn.pipeline import Pipeline\n",
    "from collections import defaultdict\n",
    "from fastFM import als\n",
    "import random\n",
    "from scipy import sparse\n",
    "import numpy as np"
   ]
  },
  {
   "cell_type": "code",
   "execution_count": 2,
   "id": "c436169f",
   "metadata": {},
   "outputs": [],
   "source": [
    "def readGz(path):\n",
    "    for l in gzip.open(path, 'rt', encoding='cp437', errors='ignore'):\n",
    "        yield eval(l)"
   ]
  },
  {
   "cell_type": "code",
   "execution_count": 3,
   "id": "b03781f3",
   "metadata": {},
   "outputs": [],
   "source": [
    "dataset = []\n",
    "for l in readGz(\"australian_users_items.json.gz\"):\n",
    "    dataset.append(l)"
   ]
  },
  {
   "cell_type": "code",
   "execution_count": 4,
   "id": "1fe716fe",
   "metadata": {},
   "outputs": [],
   "source": [
    "pairs = []\n",
    "userID, itemID = {}, {}\n",
    "for d in dataset:\n",
    "    if d['user_id'] not in userID: userID[d['user_id']] = len(userID)\n",
    "    for i in d['items']:\n",
    "        if i['item_id'] not in itemID: itemID[i['item_id']] = len(itemID)\n",
    "        pairs.append((d['user_id'], i['item_id'], i['playtime_forever']))"
   ]
  },
  {
   "cell_type": "code",
   "execution_count": 5,
   "id": "1b0f4b0e",
   "metadata": {},
   "outputs": [],
   "source": [
    "random.shuffle(pairs)"
   ]
  },
  {
   "cell_type": "code",
   "execution_count": 6,
   "id": "369f6132",
   "metadata": {},
   "outputs": [],
   "source": [
    "X = sparse.lil_matrix((len(pairs), len(userID)+len(itemID)))\n",
    "for i in range(len(pairs)):\n",
    "    user = userID[pairs[i][0]]\n",
    "    item = itemID[pairs[i][1]]\n",
    "    X[i, user] = 1\n",
    "    X[i, len(userID) + item] = 1"
   ]
  },
  {
   "cell_type": "code",
   "execution_count": 7,
   "id": "c39b5371",
   "metadata": {},
   "outputs": [],
   "source": [
    "y = np.array([1 if d[2] > 2 else -1 for d in pairs])"
   ]
  },
  {
   "cell_type": "code",
   "execution_count": 8,
   "id": "9b0f67ef",
   "metadata": {},
   "outputs": [],
   "source": [
    "n = len(pairs)\n",
    "X_train = X[:round(n*.7)]\n",
    "X_validation = X[round(n*.7):round(n*.9)]\n",
    "X_test = X[round(n*.9):]\n",
    "\n",
    "y_train = y[:round(n*.7)]\n",
    "y_validation = y[round(n*.7):round(n*.9)]\n",
    "y_test = y[round(n*.9):]"
   ]
  },
  {
   "cell_type": "code",
   "execution_count": 9,
   "id": "3bf334bf",
   "metadata": {},
   "outputs": [],
   "source": [
    "fm = als.FMClassification(n_iter=1000, init_stdev=0.1, rank=5, l2_reg_w=0.1, l2_reg_V=0.5, l2_reg=None)"
   ]
  },
  {
   "cell_type": "code",
   "execution_count": null,
   "id": "8aec68c7",
   "metadata": {
    "scrolled": true
   },
   "outputs": [],
   "source": [
    "fm.fit(X_train, y_train)"
   ]
  },
  {
   "cell_type": "code",
   "execution_count": null,
   "id": "a06f2b49",
   "metadata": {},
   "outputs": [],
   "source": []
  }
 ],
 "metadata": {
  "kernelspec": {
   "display_name": "Python 3 (ipykernel)",
   "language": "python",
   "name": "python3"
  },
  "language_info": {
   "codemirror_mode": {
    "name": "ipython",
    "version": 3
   },
   "file_extension": ".py",
   "mimetype": "text/x-python",
   "name": "python",
   "nbconvert_exporter": "python",
   "pygments_lexer": "ipython3",
   "version": "3.9.9"
  }
 },
 "nbformat": 4,
 "nbformat_minor": 5
}
