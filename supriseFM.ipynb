{
 "cells": [
  {
   "cell_type": "code",
   "execution_count": 32,
   "id": "d56cb288",
   "metadata": {},
   "outputs": [],
   "source": [
    "import gzip\n",
    "import math\n",
    "import pandas as pd\n",
    "from sklearn.feature_extraction.text import TfidfVectorizer\n",
    "from sklearn.linear_model import Ridge\n",
    "from sklearn.metrics import mean_squared_error\n",
    "from sklearn.pipeline import Pipeline\n",
    "from collections import defaultdict\n",
    "from surprise import SVD\n",
    "from surprise import Reader\n",
    "from surprise import Dataset\n",
    "from surprise.model_selection import cross_validate\n",
    "import random\n",
    "from scipy import sparse\n",
    "import numpy as np"
   ]
  },
  {
   "cell_type": "code",
   "execution_count": 7,
   "id": "c436169f",
   "metadata": {},
   "outputs": [],
   "source": [
    "def readGz(path):\n",
    "    for l in gzip.open(path, 'rt', encoding='cp437', errors='ignore'):\n",
    "        yield eval(l)"
   ]
  },
  {
   "cell_type": "code",
   "execution_count": 8,
   "id": "b03781f3",
   "metadata": {},
   "outputs": [],
   "source": [
    "dataset = []\n",
    "for l in readGz(\"australian_users_items.json.gz\"):\n",
    "    dataset.append(l)"
   ]
  },
  {
   "cell_type": "code",
   "execution_count": 9,
   "id": "1fe716fe",
   "metadata": {},
   "outputs": [],
   "source": [
    "pairs = []\n",
    "userID, itemID = {}, {}\n",
    "for d in dataset:\n",
    "    if len(d['items']) < 3: continue\n",
    "    if d['steam_id'] not in userID: userID[d['steam_id']] = len(userID)\n",
    "    for i in d['items']:\n",
    "        if i['item_id'] not in itemID: itemID[i['item_id']] = len(itemID)\n",
    "        pairs.append((d['steam_id'], i['item_id'], i['playtime_forever']))"
   ]
  },
  {
   "cell_type": "code",
   "execution_count": 10,
   "id": "1b0f4b0e",
   "metadata": {},
   "outputs": [],
   "source": [
    "random.shuffle(pairs)"
   ]
  },
  {
   "cell_type": "code",
   "execution_count": 11,
   "id": "369f6132",
   "metadata": {},
   "outputs": [],
   "source": [
    "X = sparse.lil_matrix((len(pairs), len(userID)+len(itemID)))\n",
    "for i in range(len(pairs)):\n",
    "    user = userID[pairs[i][0]]\n",
    "    item = itemID[pairs[i][1]]\n",
    "    X[i, user] = 1\n",
    "    X[i, len(userID) + item] = 1"
   ]
  },
  {
   "cell_type": "code",
   "execution_count": 12,
   "id": "c39b5371",
   "metadata": {},
   "outputs": [],
   "source": [
    "y = np.array([1 if d[2] > 2 else -1 for d in pairs])"
   ]
  },
  {
   "cell_type": "code",
   "execution_count": 13,
   "id": "9b0f67ef",
   "metadata": {},
   "outputs": [],
   "source": [
    "n = len(pairs)\n",
    "X_train = X[:round(n*.9)]\n",
    "X_validation = X[round(n*.7):round(n*.9)]\n",
    "X_test = X[round(n*.9):]\n",
    "\n",
    "y_train = y[:round(n*.9)]\n",
    "y_validation = y[round(n*.7):round(n*.9)]\n",
    "y_test = y[round(n*.9):]"
   ]
  },
  {
   "cell_type": "code",
   "execution_count": null,
   "id": "b42f7466",
   "metadata": {},
   "outputs": [],
   "source": []
  },
  {
   "cell_type": "code",
   "execution_count": null,
   "id": "8942302a",
   "metadata": {},
   "outputs": [],
   "source": []
  },
  {
   "cell_type": "code",
   "execution_count": 19,
   "id": "23e8c761",
   "metadata": {},
   "outputs": [],
   "source": [
    "pairs_df = pd.DataFrame(pairs)\n",
    "pairs_df.columns = ['user', 'item', 'hours']"
   ]
  },
  {
   "cell_type": "code",
   "execution_count": 29,
   "id": "4449fec7",
   "metadata": {},
   "outputs": [],
   "source": [
    "pairs_df['played'] = (pairs_df['hours'] > 2).astype(int)"
   ]
  },
  {
   "cell_type": "code",
   "execution_count": 28,
   "id": "5536072d",
   "metadata": {},
   "outputs": [],
   "source": [
    "reader = Reader(rating_scale = (0, 1))"
   ]
  },
  {
   "cell_type": "code",
   "execution_count": 31,
   "id": "099f4366",
   "metadata": {},
   "outputs": [],
   "source": [
    "data = Dataset.load_from_df(pairs_df[['user', 'item', 'played']], reader)"
   ]
  },
  {
   "cell_type": "code",
   "execution_count": null,
   "id": "e55b9001",
   "metadata": {},
   "outputs": [],
   "source": []
  },
  {
   "cell_type": "code",
   "execution_count": null,
   "id": "ce94fdd4",
   "metadata": {},
   "outputs": [],
   "source": []
  },
  {
   "cell_type": "code",
   "execution_count": null,
   "id": "dc2b1fc1",
   "metadata": {},
   "outputs": [],
   "source": []
  },
  {
   "cell_type": "code",
   "execution_count": 20,
   "id": "3bf334bf",
   "metadata": {},
   "outputs": [],
   "source": [
    "algo = SVD()"
   ]
  },
  {
   "cell_type": "code",
   "execution_count": 33,
   "id": "8aec68c7",
   "metadata": {
    "scrolled": true
   },
   "outputs": [
    {
     "name": "stdout",
     "output_type": "stream",
     "text": [
      "Evaluating MAE of algorithm SVD on 5 split(s).\n",
      "\n",
      "                  Fold 1  Fold 2  Fold 3  Fold 4  Fold 5  Mean    Std     \n",
      "MAE (testset)     0.2932  0.2928  0.2925  0.2937  0.2929  0.2930  0.0004  \n",
      "Fit time          203.48  198.77  201.98  213.54  214.24  206.40  6.30    \n",
      "Test time         5.31    5.15    5.72    5.98    8.49    6.13    1.22    \n"
     ]
    },
    {
     "data": {
      "text/plain": [
       "{'test_mae': array([0.293224  , 0.29284497, 0.29249923, 0.29369377, 0.29290446]),\n",
       " 'fit_time': (203.47556686401367,\n",
       "  198.7730541229248,\n",
       "  201.98195791244507,\n",
       "  213.54193329811096,\n",
       "  214.23575019836426),\n",
       " 'test_time': (5.312453031539917,\n",
       "  5.153742790222168,\n",
       "  5.716975450515747,\n",
       "  5.980062007904053,\n",
       "  8.494498491287231)}"
      ]
     },
     "execution_count": 33,
     "metadata": {},
     "output_type": "execute_result"
    }
   ],
   "source": [
    "cross_validate(algo, data, measures=['MAE'], cv=5, verbose=True)"
   ]
  },
  {
   "cell_type": "code",
   "execution_count": 21,
   "id": "31a462e1",
   "metadata": {},
   "outputs": [
    {
     "data": {
      "text/html": [
       "<div>\n",
       "<style scoped>\n",
       "    .dataframe tbody tr th:only-of-type {\n",
       "        vertical-align: middle;\n",
       "    }\n",
       "\n",
       "    .dataframe tbody tr th {\n",
       "        vertical-align: top;\n",
       "    }\n",
       "\n",
       "    .dataframe thead th {\n",
       "        text-align: right;\n",
       "    }\n",
       "</style>\n",
       "<table border=\"1\" class=\"dataframe\">\n",
       "  <thead>\n",
       "    <tr style=\"text-align: right;\">\n",
       "      <th></th>\n",
       "      <th>user</th>\n",
       "      <th>item</th>\n",
       "      <th>hours</th>\n",
       "    </tr>\n",
       "  </thead>\n",
       "  <tbody>\n",
       "    <tr>\n",
       "      <th>0</th>\n",
       "      <td>76561198040028503</td>\n",
       "      <td>204240</td>\n",
       "      <td>216</td>\n",
       "    </tr>\n",
       "    <tr>\n",
       "      <th>1</th>\n",
       "      <td>76561198041648531</td>\n",
       "      <td>9880</td>\n",
       "      <td>2842</td>\n",
       "    </tr>\n",
       "    <tr>\n",
       "      <th>2</th>\n",
       "      <td>76561198012453955</td>\n",
       "      <td>55230</td>\n",
       "      <td>368</td>\n",
       "    </tr>\n",
       "    <tr>\n",
       "      <th>3</th>\n",
       "      <td>76561198045633202</td>\n",
       "      <td>8190</td>\n",
       "      <td>2377</td>\n",
       "    </tr>\n",
       "    <tr>\n",
       "      <th>4</th>\n",
       "      <td>76561198039593988</td>\n",
       "      <td>208090</td>\n",
       "      <td>379</td>\n",
       "    </tr>\n",
       "    <tr>\n",
       "      <th>...</th>\n",
       "      <td>...</td>\n",
       "      <td>...</td>\n",
       "      <td>...</td>\n",
       "    </tr>\n",
       "    <tr>\n",
       "      <th>5146356</th>\n",
       "      <td>76561198068492230</td>\n",
       "      <td>9420</td>\n",
       "      <td>3158</td>\n",
       "    </tr>\n",
       "    <tr>\n",
       "      <th>5146357</th>\n",
       "      <td>76561198058478694</td>\n",
       "      <td>242720</td>\n",
       "      <td>13</td>\n",
       "    </tr>\n",
       "    <tr>\n",
       "      <th>5146358</th>\n",
       "      <td>76561198059920635</td>\n",
       "      <td>253710</td>\n",
       "      <td>1</td>\n",
       "    </tr>\n",
       "    <tr>\n",
       "      <th>5146359</th>\n",
       "      <td>76561198043784371</td>\n",
       "      <td>232770</td>\n",
       "      <td>0</td>\n",
       "    </tr>\n",
       "    <tr>\n",
       "      <th>5146360</th>\n",
       "      <td>76561198057027980</td>\n",
       "      <td>91200</td>\n",
       "      <td>8</td>\n",
       "    </tr>\n",
       "  </tbody>\n",
       "</table>\n",
       "<p>5146361 rows × 3 columns</p>\n",
       "</div>"
      ],
      "text/plain": [
       "                      user    item  hours\n",
       "0        76561198040028503  204240    216\n",
       "1        76561198041648531    9880   2842\n",
       "2        76561198012453955   55230    368\n",
       "3        76561198045633202    8190   2377\n",
       "4        76561198039593988  208090    379\n",
       "...                    ...     ...    ...\n",
       "5146356  76561198068492230    9420   3158\n",
       "5146357  76561198058478694  242720     13\n",
       "5146358  76561198059920635  253710      1\n",
       "5146359  76561198043784371  232770      0\n",
       "5146360  76561198057027980   91200      8\n",
       "\n",
       "[5146361 rows x 3 columns]"
      ]
     },
     "execution_count": 21,
     "metadata": {},
     "output_type": "execute_result"
    }
   ],
   "source": [
    "pairs_df"
   ]
  },
  {
   "cell_type": "code",
   "execution_count": null,
   "id": "f02e2000",
   "metadata": {},
   "outputs": [],
   "source": []
  }
 ],
 "metadata": {
  "kernelspec": {
   "display_name": "Python 3 (ipykernel)",
   "language": "python",
   "name": "python3"
  },
  "language_info": {
   "codemirror_mode": {
    "name": "ipython",
    "version": 3
   },
   "file_extension": ".py",
   "mimetype": "text/x-python",
   "name": "python",
   "nbconvert_exporter": "python",
   "pygments_lexer": "ipython3",
   "version": "3.9.9"
  }
 },
 "nbformat": 4,
 "nbformat_minor": 5
}
